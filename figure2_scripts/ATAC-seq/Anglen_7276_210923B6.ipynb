{
 "cells": [
  {
   "cell_type": "markdown",
   "metadata": {},
   "source": [
    "# Anglen_7276_210923B6 - atac_seq\n",
    "This notebook will create all the necessary files, scripts and folders to pre-process the aforementioned project. Is designed to be used in a jupyter server deployed in a system running SLURM. The majority of the scripts and heavy-lifting processes are wrapped up in sbatch scripts.As an end user, in order to pre-process your samples provided in the spread sheet, you will simply need to *run the entire notebook* (Cell > Run all) and the system should take care of the rest for you.\n",
    "#### Create necessary folder(s)"
   ]
  },
  {
   "cell_type": "code",
   "execution_count": 14,
   "metadata": {},
   "outputs": [],
   "source": [
    "%%bash\n",
    "mkdir -p /data/gersbachlab/tda17/Anglen_7276_210923B6/data/atac_seq/metadata\n",
    "mkdir -p /data/gersbachlab/tda17/Anglen_7276_210923B6/data/atac_seq/raw_reads\n",
    "mkdir -p /data/gersbachlab/tda17/Anglen_7276_210923B6/data/atac_seq/processed_raw_reads\n",
    "mkdir -p /data/gersbachlab/tda17/Anglen_7276_210923B6/processing/atac_seq/scripts\n",
    "mkdir -p /data/gersbachlab/tda17/Anglen_7276_210923B6/processing/atac_seq/jsons\n",
    "mkdir -p /data/gersbachlab/tda17/Anglen_7276_210923B6/processing/atac_seq/logs"
   ]
  },
  {
   "cell_type": "markdown",
   "metadata": {},
   "source": [
    "Save metadata file"
   ]
  },
  {
   "cell_type": "code",
   "execution_count": 15,
   "metadata": {},
   "outputs": [
    {
     "name": "stdout",
     "output_type": "stream",
     "text": [
      "Overwriting /data/gersbachlab/tda17/Anglen_7276_210923B6/data/atac_seq/metadata/atac_seq_download_metadata.Anglen_7276_210923B6.txt\n"
     ]
    }
   ],
   "source": [
    "%%writefile /data/gersbachlab/tda17/Anglen_7276_210923B6/data/atac_seq/metadata/atac_seq_download_metadata.Anglen_7276_210923B6.txt\n",
    "Sequencing core project\tsequencing core library name\tName\tPaired-end or single-end\tGenome\tLibrary type\tBlacklist removal\n",
    "Anglen_7276_210923B6\tControl-1\tControl_1\tPE\thg38\tATAC-seq\tTrue\n",
    "Anglen_7276_210923B6\tControl-2\tControl_2\tPE\thg38\tATAC-seq\tTrue\n",
    "Anglen_7276_210923B6\tControl-3\tControl_3\tPE\thg38\tATAC-seq\tTrue\n",
    "Anglen_7276_210923B6\tCHRIR4uM-1\tCHRIR4uM_1\tPE\thg38\tATAC-seq\tTrue\n",
    "Anglen_7276_210923B6\tCHRIR4uM-2\tCHRIR4uM_2\tPE\thg38\tATAC-seq\tTrue\n",
    "Anglen_7276_210923B6\tCHRIR4uM-3\tCHRIR4uM_3\tPE\thg38\tATAC-seq\tTrue\n",
    "Anglen_7276_210923B6\tYAP-GFP-1\tYAP_GFP_1\tPE\thg38\tATAC-seq\tTrue\n",
    "Anglen_7276_210923B6\tYAP-GFP-2\tYAP_GFP_2\tPE\thg38\tATAC-seq\tTrue\n",
    "Anglen_7276_210923B6\tYAP-GFP-3\tYAP_GFP_3\tPE\thg38\tATAC-seq\tTrue\n"
   ]
  },
  {
   "cell_type": "markdown",
   "metadata": {},
   "source": [
    "#### Download FASTQ from dukeds\n",
    "Create file to download FASTQ files"
   ]
  },
  {
   "cell_type": "code",
   "execution_count": 16,
   "metadata": {},
   "outputs": [
    {
     "name": "stdout",
     "output_type": "stream",
     "text": [
      "Overwriting /data/gersbachlab/tda17/Anglen_7276_210923B6/processing/atac_seq/scripts/download_Anglen_7276_210923B6.sh\n"
     ]
    }
   ],
   "source": [
    "%%writefile /data/gersbachlab/tda17/Anglen_7276_210923B6/processing/atac_seq/scripts/download_Anglen_7276_210923B6.sh\n",
    "#!/bin/bash\n",
    "METADATA=/data/gersbachlab/tda17/Anglen_7276_210923B6/data/atac_seq/metadata/atac_seq_download_metadata.Anglen_7276_210923B6.txt\n",
    "DATA_HOME=/data/gersbachlab/tda17/Anglen_7276_210923B6/data/atac_seq\n",
    "mkdir -p ${DATA_HOME}/raw_reads/\n",
    "\n",
    "cp -R /gpfs/fs1/data/gersbachlab/tda17/Anglen_7276_210923B6/CHIR.YAP5SAgfp.ATACseq/*fastq.gz /gpfs/fs1/data/gersbachlab/tda17/Anglen_7276_210923B6/data/atac_seq/raw_reads/Anglen_7276_210923B6/"
   ]
  },
  {
   "cell_type": "markdown",
   "metadata": {},
   "source": [
    "Execute file to download files"
   ]
  },
  {
   "cell_type": "code",
   "execution_count": 17,
   "metadata": {},
   "outputs": [],
   "source": [
    "%%script --out blocking_job_str bash\n",
    "sbatch -o /data/gersbachlab/tda17/Anglen_7276_210923B6/processing/atac_seq/logs/Anglen_7276_210923B6_download_fastq_files.out \\\n",
    " -p all \\\n",
    " /data/gersbachlab/tda17/Anglen_7276_210923B6/processing/atac_seq/scripts/download_Anglen_7276_210923B6.sh"
   ]
  },
  {
   "cell_type": "markdown",
   "metadata": {},
   "source": [
    "Extract blocking job id"
   ]
  },
  {
   "cell_type": "code",
   "execution_count": 18,
   "metadata": {},
   "outputs": [],
   "source": [
    "import re\n",
    "blocking_job = re.match('Submitted batch job (\\d+).*', blocking_job_str).group(1)"
   ]
  },
  {
   "cell_type": "markdown",
   "metadata": {},
   "source": [
    "#### Merge lanes of FASTQ files"
   ]
  },
  {
   "cell_type": "code",
   "execution_count": 19,
   "metadata": {},
   "outputs": [
    {
     "name": "stdout",
     "output_type": "stream",
     "text": [
      "Overwriting /data/gersbachlab/tda17/Anglen_7276_210923B6/processing/atac_seq/scripts/merge_lanes_Anglen_7276_210923B6.sh\n"
     ]
    }
   ],
   "source": [
    "%%writefile /data/gersbachlab/tda17/Anglen_7276_210923B6/processing/atac_seq/scripts/merge_lanes_Anglen_7276_210923B6.sh\n",
    "#!/bin/bash\n",
    "#SBATCH --array=0-9%20\n",
    "ORDER=Anglen_7276_210923B6\n",
    "RAW_DATA_DIR=/data/gersbachlab/tda17/Anglen_7276_210923B6/data/atac_seq/raw_reads/${ORDER}\n",
    "PROCESSED_DATA_DIR=/data/gersbachlab/tda17/Anglen_7276_210923B6/data/atac_seq/processed_raw_reads/${ORDER}\n",
    "METADATA=/data/gersbachlab/tda17/Anglen_7276_210923B6/data/atac_seq/metadata/atac_seq_download_metadata.Anglen_7276_210923B6.txt\n",
    "\n",
    "mkdir -p ${PROCESSED_DATA_DIR}\n",
    "cd ${PROCESSED_DATA_DIR}\n",
    "\n",
    "seq_name_header=$(/bin/grep -Eoi \"sequencing.?core.?library.?name\" ${METADATA})\n",
    "if [[ $? == 1 ]];\n",
    "then\n",
    "    echo -e \"ERROR: Sequencing core library name not found in ${METADATA}\"\n",
    "    exit 1\n",
    "fi\n",
    "\n",
    "name_header=$(/bin/grep -Poi \"\\tname\\t\" ${METADATA})\n",
    "if [[ $? == 1 ]];\n",
    "then\n",
    "    echo -e \"ERROR: Library Name column not found in ${METADATA}\"\n",
    "    exit 1\n",
    "fi\n",
    "name_header=$(echo ${name_header} | cut -f2)\n",
    "\n",
    "seq_type_header=$(head -1 ${METADATA} | /bin/grep -Poi \"paired.?end.?or.?single.?end\")\n",
    "if [[ $? == 1 ]];\n",
    "then\n",
    "    echo -e \"ERROR: Paired-end or single-end column not found in ${METADATA}\"\n",
    "    exit 1\n",
    "fi\n",
    "\n",
    "sample_seq_name=$(/data/reddylab/software/bin/print_tab_cols.awk -v cols=\"${seq_name_header}\" ${METADATA} \\\n",
    "    | awk -v SLURM_ARRAY_TASK_ID=${SLURM_ARRAY_TASK_ID} 'NR==SLURM_ARRAY_TASK_ID+1{print}');\n",
    "sample_name=$(/data/reddylab/software/bin/print_tab_cols.awk -v cols=\"${name_header}\" ${METADATA} \\\n",
    "    | awk -v SLURM_ARRAY_TASK_ID=${SLURM_ARRAY_TASK_ID} 'NR==SLURM_ARRAY_TASK_ID+1{print}');\n",
    "seq_type=$(/data/reddylab/software/bin/print_tab_cols.awk -v cols=\"${seq_type_header}\" ${METADATA} \\\n",
    "    | awk -v SLURM_ARRAY_TASK_ID=${SLURM_ARRAY_TASK_ID} 'NR==SLURM_ARRAY_TASK_ID+1{print}');\n",
    "\n",
    "\n",
    "for read_pair in R1 R2 UMI;\n",
    "do\n",
    "    sample_files=$(/bin/ls ${RAW_DATA_DIR}/${sample_seq_name/ /}_S[0-9]*_L[0-9][0-9][0-9]_${read_pair}_* 2> /dev/null)\n",
    "    if [[ $? != 0 ]]; # If no samples found with that read_pair, continue\n",
    "    then\n",
    "        continue;\n",
    "    fi\n",
    "    if [[ ${read_pair} == \"R1\" || (${seq_type/ /} == \"PE\" || ${seq_type/ /} == \"pe\") ]];\n",
    "    then\n",
    "        # Merge all lanes\n",
    "        merged=$(basename $(echo ${sample_files} | awk '{print $1}') | sed -e 's/_L[0-9]\\{3\\}_/_/')\n",
    "        cat ${sample_files} > ${merged};\n",
    "\n",
    "        # Rename samples with our sample Names\n",
    "        dest_filename=$(basename $(echo ${merged} | awk '{print $1}') | sed -r 's/\\_S[0-9]+//; s/\\_(R1|R2|UMI)\\_/\\.\\1\\./; s/\\.[0-9]+\\.fastq/\\.fastq/')\n",
    "        mv ${merged} ${dest_filename}\n",
    "\n",
    "        cleaned_dest_filename=${dest_filename/${sample_seq_name/ /}/${sample_name/ /}}\n",
    "\n",
    "        if [[ ${seq_type/ /} == \"SE\" || ${seq_type/ /} == \"se\" ]];\n",
    "        then\n",
    "            cleaned_dest_filename=${cleaned_dest_filename/.R1/}\n",
    "        fi\n",
    "        \n",
    "        mv ${dest_filename} ${cleaned_dest_filename}\n",
    "    fi\n",
    "done\n"
   ]
  },
  {
   "cell_type": "markdown",
   "metadata": {},
   "source": [
    "Execute file to merge lanes of FASTQ files"
   ]
  },
  {
   "cell_type": "code",
   "execution_count": 20,
   "metadata": {},
   "outputs": [],
   "source": [
    "%%script --out blocking_job_str bash -s \"$blocking_job\"\n",
    "sbatch -o /data/gersbachlab/tda17/Anglen_7276_210923B6/processing/atac_seq/logs/Anglen_7276_210923B6_merge_fastq_files_%a.out \\\n",
    " -p all \\\n",
    " --depend afterok:$1 \\\n",
    " --array 0-8%20 \\\n",
    " /data/gersbachlab/tda17/Anglen_7276_210923B6/processing/atac_seq/scripts/merge_lanes_Anglen_7276_210923B6.sh"
   ]
  },
  {
   "cell_type": "markdown",
   "metadata": {},
   "source": [
    "Extract blocking job id"
   ]
  },
  {
   "cell_type": "code",
   "execution_count": 21,
   "metadata": {},
   "outputs": [],
   "source": [
    "import re\n",
    "blocking_job = re.match('Submitted batch job (\\d+).*', blocking_job_str).group(1)"
   ]
  },
  {
   "cell_type": "markdown",
   "metadata": {},
   "source": [
    "#### Create JSON files for CWL pipeline files"
   ]
  },
  {
   "cell_type": "code",
   "execution_count": 22,
   "metadata": {},
   "outputs": [
    {
     "name": "stdout",
     "output_type": "stream",
     "text": [
      "Overwriting /data/gersbachlab/tda17/Anglen_7276_210923B6/processing/atac_seq/scripts/cwl_json_gen_Anglen_7276_210923B6.sh\n"
     ]
    }
   ],
   "source": [
    "%%writefile /data/gersbachlab/tda17/Anglen_7276_210923B6/processing/atac_seq/scripts/cwl_json_gen_Anglen_7276_210923B6.sh\n",
    "#!/bin/bash\n",
    "ORDER=Anglen_7276_210923B6\n",
    "PROCESSED_DATA_DIR=/data/gersbachlab/tda17/Anglen_7276_210923B6/data/atac_seq/processed_raw_reads/${ORDER}\n",
    "METADATA=/data/gersbachlab/tda17/Anglen_7276_210923B6/data/atac_seq/metadata/atac_seq_download_metadata.Anglen_7276_210923B6.txt\n",
    "\n",
    "python /data/reddylab/software/cwl/GGR-cwl/v1.0/json-generator/run.py \\\n",
    "    -m ${METADATA} \\\n",
    "    -d ${PROCESSED_DATA_DIR} \\\n",
    "    -o /data/gersbachlab/tda17/Anglen_7276_210923B6/processing/atac_seq/jsons \\\n",
    "    -t atac-seq \\\n",
    "    --fastq-gzipped \\\n",
    "    --mem 24000 \\\n",
    "    --nthreads 16 \\\n",
    "    --separate-jsons\n",
    "\n"
   ]
  },
  {
   "cell_type": "markdown",
   "metadata": {},
   "source": [
    "Execute file to create JSON files"
   ]
  },
  {
   "cell_type": "code",
   "execution_count": 23,
   "metadata": {},
   "outputs": [],
   "source": [
    "%%script --out blocking_job_str bash -s \"$blocking_job\"\n",
    "source /data/reddylab/software/miniconda2/bin/activate cwl10\n",
    "sbatch -o /data/gersbachlab/tda17/Anglen_7276_210923B6/processing/atac_seq/logs/Anglen_7276_210923B6_cwl_json_gen.out \\\n",
    " -p all \\\n",
    " --depend afterok:$1 \\\n",
    " /data/gersbachlab/tda17/Anglen_7276_210923B6/processing/atac_seq/scripts/cwl_json_gen_Anglen_7276_210923B6.sh"
   ]
  },
  {
   "cell_type": "markdown",
   "metadata": {},
   "source": [
    "Extract blocking job id"
   ]
  },
  {
   "cell_type": "code",
   "execution_count": 24,
   "metadata": {},
   "outputs": [],
   "source": [
    "import re\n",
    "blocking_job = re.match('Submitted batch job (\\d+).*', blocking_job_str).group(1)"
   ]
  },
  {
   "cell_type": "markdown",
   "metadata": {},
   "source": [
    "#### Create SLURM array master bash file for pe-blacklist-removal samples"
   ]
  },
  {
   "cell_type": "code",
   "execution_count": 25,
   "metadata": {},
   "outputs": [
    {
     "name": "stdout",
     "output_type": "stream",
     "text": [
      "Overwriting /data/gersbachlab/tda17/Anglen_7276_210923B6/processing/atac_seq/scripts/Anglen_7276_210923B6-pe-blacklist-removal.sh\n"
     ]
    }
   ],
   "source": [
    "%%writefile /data/gersbachlab/tda17/Anglen_7276_210923B6/processing/atac_seq/scripts/Anglen_7276_210923B6-pe-blacklist-removal.sh\n",
    "#!/bin/bash\n",
    "#SBATCH --job-name=cwl_atac_seq\n",
    "#SBATCH --output=/data/gersbachlab/tda17/Anglen_7276_210923B6/processing/atac_seq/logs/Anglen_7276_210923B6-pe-blacklist-removal-%a.out\n",
    "#SBATCH --mail-user=tda17@duke.edu\n",
    "#SBATCH --mail-type=FAIL,END\n",
    "#SBATCH --mem=32G\n",
    "#SBATCH --cpus-per-task=16\n",
    "\n",
    "\n",
    "export PATH=\"/data/reddylab/software/bin:$PATH\"\n",
    "export PATH=\"/data/common/shared_conda_envs/ucsc/bin:$PATH\"\n",
    "export PATH=\"/data/reddylab/software/cwl/bin:$PATH\"\n",
    "export PATH=\"/data/reddylab/software/preseq_v2.0:$PATH\"\n",
    "export PATH=\"/data/reddylab/software/rsem-1.2.21/:$PATH\"\n",
    "export PATH=\"/data/reddylab/software/phantompeakqualtools-1.2/:$PATH\"\n",
    "export PATH=\"/data/reddylab/software/miniconda2/envs/cwl10/bin:$PATH\"\n",
    "\n",
    "module load bedtools2\n",
    "module load fastqc\n",
    "module load samtools\n",
    "module load bowtie2\n",
    "module load java\n",
    "\n",
    "# For Fastqc\n",
    "export DISPLAY=:0.0\n",
    "\n",
    "# Make sure temporary files and folders are created in a specific folder\n",
    "mkdir -p /data/gersbachlab/tda17/Anglen_7276_210923B6/processing/atac_seq/tmpdirs/tmp-Anglen_7276_210923B6-pe-blacklist-removal-${SLURM_ARRAY_TASK_ID}-\n",
    "export TMPDIR=\"/data/gersbachlab/tda17/Anglen_7276_210923B6/processing/atac_seq/tmpdirs/tmp-Anglen_7276_210923B6-pe-blacklist-removal-${SLURM_ARRAY_TASK_ID}-\"\n",
    "\n",
    "cwltool --debug \\\n",
    "    --non-strict \\\n",
    "    --preserve-environment PATH \\\n",
    "    --preserve-environment DISPLAY \\\n",
    "    --preserve-environment TMPDIR \\\n",
    "    --outdir /data/gersbachlab/tda17/Anglen_7276_210923B6/processing/atac_seq/Anglen_7276_210923B6-pe-blacklist-removal  \\\n",
    "    --no-container \\\n",
    "    /data/reddylab/software/cwl/GGR-cwl/v1.0/ATAC-seq_pipeline/pipeline-pe-blacklist-removal.cwl \\\n",
    "    /data/gersbachlab/tda17/Anglen_7276_210923B6/processing/atac_seq/jsons/atac_seq_download_metadata.Anglen_7276_210923B6-pe-blacklist-removal-${SLURM_ARRAY_TASK_ID}.json\n",
    "\n",
    "\n",
    "# Delete any tmpdir not removed by cwltool\n",
    "rm -rf /data/gersbachlab/tda17/Anglen_7276_210923B6/processing/atac_seq/tmpdirs/tmp-Anglen_7276_210923B6-pe-blacklist-removal-${SLURM_ARRAY_TASK_ID}-\n"
   ]
  },
  {
   "cell_type": "markdown",
   "metadata": {},
   "source": [
    "Execute SLURM array master file"
   ]
  },
  {
   "cell_type": "code",
   "execution_count": 26,
   "metadata": {},
   "outputs": [],
   "source": [
    "%%script --out blocking_job_str bash -s \"$blocking_job\"\n",
    "source /data/reddylab/software/miniconda2/bin/activate cwl10\n",
    "sbatch -p all \\\n",
    " --depend afterok:$1 \\\n",
    " --array 0-8%20 \\\n",
    " /data/gersbachlab/tda17/Anglen_7276_210923B6/processing/atac_seq/scripts/Anglen_7276_210923B6-pe-blacklist-removal.sh"
   ]
  },
  {
   "cell_type": "markdown",
   "metadata": {},
   "source": [
    "Extract blocking job id"
   ]
  },
  {
   "cell_type": "code",
   "execution_count": 27,
   "metadata": {},
   "outputs": [],
   "source": [
    "import re\n",
    "blocking_job = re.match('Submitted batch job (\\d+).*', blocking_job_str).group(1)"
   ]
  },
  {
   "cell_type": "markdown",
   "metadata": {},
   "source": [
    "#### Create QC generating script"
   ]
  },
  {
   "cell_type": "code",
   "execution_count": 28,
   "metadata": {},
   "outputs": [
    {
     "name": "stdout",
     "output_type": "stream",
     "text": [
      "Overwriting /data/gersbachlab/tda17/Anglen_7276_210923B6/processing/atac_seq/scripts/generate_qc_cell_Anglen_7276_210923B6-pe-blacklist-removal.sh\n"
     ]
    }
   ],
   "source": [
    "%%writefile /data/gersbachlab/tda17/Anglen_7276_210923B6/processing/atac_seq/scripts/generate_qc_cell_Anglen_7276_210923B6-pe-blacklist-removal.sh\n",
    "#!/bin/bash\n",
    "#SBATCH --job-name=qc\n",
    "#SBATCH --output=/data/gersbachlab/tda17/Anglen_7276_210923B6/processing/atac_seq/logs/qc_gen.Anglen_7276_210923B6-pe-blacklist-removal.out\n",
    "\n",
    "source /data/reddylab/software/miniconda2/bin/activate alex\n",
    "cd /data/gersbachlab/tda17/Anglen_7276_210923B6/processing/atac_seq/Anglen_7276_210923B6-pe-blacklist-removal\n",
    "\n",
    "python /data/reddylab/software/cwl/bin/generate_stats_atacseq_paired_end.py ./ \\\n",
    "    -samples $(/bin/ls -1 *PBC.txt | sed 's@.PBC.txt@@') \\\n",
    "> qc.txt"
   ]
  },
  {
   "cell_type": "markdown",
   "metadata": {},
   "source": [
    "Generate QCs for Anglen_7276_210923B6-pe-blacklist-removal"
   ]
  },
  {
   "cell_type": "code",
   "execution_count": 29,
   "metadata": {},
   "outputs": [],
   "source": [
    "%%script --out blocking_job_str bash -s \"$blocking_job\"\n",
    "sbatch -p all \\\n",
    " /data/gersbachlab/tda17/Anglen_7276_210923B6/processing/atac_seq/scripts/generate_qc_cell_Anglen_7276_210923B6-pe-blacklist-removal.sh"
   ]
  },
  {
   "cell_type": "markdown",
   "metadata": {},
   "source": [
    "Extract blocking job id"
   ]
  },
  {
   "cell_type": "code",
   "execution_count": 30,
   "metadata": {},
   "outputs": [],
   "source": [
    "import re\n",
    "blocking_job = re.match('Submitted batch job (\\d+).*', blocking_job_str).group(1)"
   ]
  },
  {
   "cell_type": "code",
   "execution_count": null,
   "metadata": {},
   "outputs": [],
   "source": []
  }
 ],
 "metadata": {
  "kernelspec": {
   "display_name": "Python 3",
   "language": "python",
   "name": "python3"
  },
  "language_info": {
   "codemirror_mode": {
    "name": "ipython",
    "version": 3
   },
   "file_extension": ".py",
   "mimetype": "text/x-python",
   "name": "python",
   "nbconvert_exporter": "python",
   "pygments_lexer": "ipython3",
   "version": "3.6.7"
  }
 },
 "nbformat": 4,
 "nbformat_minor": 1
}
